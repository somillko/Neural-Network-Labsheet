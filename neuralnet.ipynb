{
 "cells": [
  {
   "cell_type": "code",
   "execution_count": 23,
   "metadata": {},
   "outputs": [],
   "source": [
    "import numpy as np\n",
    "from numpy import exp,array,random,dot,tanh"
   ]
  },
  {
   "cell_type": "code",
   "execution_count": 24,
   "metadata": {},
   "outputs": [
    {
     "name": "stdout",
     "output_type": "stream",
     "text": [
      "random weights at the start of the training\n",
      "[[-0.16595599]\n",
      " [ 0.44064899]\n",
      " [-0.99977125]]\n",
      "new weights after training \n",
      "[[5.39428067]\n",
      " [0.19482422]\n",
      " [0.34317086]]\n",
      "testing network on a new example-->\n",
      "[0.19239613]\n"
     ]
    }
   ],
   "source": [
    "class NeuralNetwork():\n",
    "    def __init__(self):\n",
    "        random.seed(1)\n",
    "        self.weight_matrix = 2*random.random((3,1)) - 1\n",
    "    def tanh(self,x):\n",
    "        return tanh(x)\n",
    "    def tanh_derivative(self,x):\n",
    "        return 1.0-tanh(x)**2\n",
    "    def forward_propagation(self,inputs):\n",
    "        return self.tanh(dot(inputs,self.weight_matrix))\n",
    "    def train(self,train_inputs,train_outputs,num_train_iterations):\n",
    "        for iteration in range(num_train_iterations):\n",
    "            output = self.forward_propagation(train_inputs)\n",
    "            error = train_outputs-output\n",
    "            \n",
    "            adjustment = dot(train_inputs.T,error*self.tanh_derivative(output))\n",
    "            self.weight_matrix+= adjustment\n",
    "if __name__ == \"__main__\":\n",
    "    \n",
    "    neural_network = NeuralNetwork()\n",
    "    \n",
    "    print(\"random weights at the start of the training\")\n",
    "    print(neural_network.weight_matrix)\n",
    "    \n",
    "    train_inputs = array([[0,0,1], [1,1,1], [1,0,1], [0,1,1]])\n",
    "    train_outputs = array([[0,1,1,0]]).T\n",
    "    \n",
    "    neural_network.train(train_inputs,train_outputs,10000)\n",
    "    \n",
    "    print(\"new weights after training \")\n",
    "    print(neural_network.weight_matrix)\n",
    "    \n",
    "    print(\"testing network on a new example-->\")\n",
    "    print(neural_network.forward_propagation(array([0,1,0])))\n",
    "    \n",
    "            "
   ]
  },
  {
   "cell_type": "code",
   "execution_count": 25,
   "metadata": {},
   "outputs": [
    {
     "name": "stdout",
     "output_type": "stream",
     "text": [
      "random weights at the start of the training\n",
      "[[-0.16595599]\n",
      " [ 0.44064899]\n",
      " [-0.99977125]]\n",
      "new weights after training \n",
      "[[16.04635503]\n",
      " [-0.4061331 ]\n",
      " [-7.9271745 ]]\n",
      "testing network on a new example-->\n",
      "[0.39983969]\n"
     ]
    }
   ],
   "source": [
    "class NeuralNetwork():\n",
    "    def __init__(self):\n",
    "        random.seed(1)\n",
    "        self.weight_matrix = 2*random.random((3,1)) - 1\n",
    "    def sigmoid(self,x):\n",
    "        return  1. / (1. + np.exp(-x))\n",
    "    def sigmoid_derivative(self,x):\n",
    "        return np.exp(-x)/ (1. + np.exp(-x))\n",
    "    def forward_propagation(self,inputs):\n",
    "        return self.sigmoid(dot(inputs,self.weight_matrix))\n",
    "    def train(self,train_inputs,train_outputs,num_train_iterations):\n",
    "        for iteration in range(num_train_iterations):\n",
    "            output = self.forward_propagation(train_inputs)\n",
    "            error = train_outputs-output\n",
    "            \n",
    "            adjustment = dot(train_inputs.T,error*self.sigmoid_derivative(output))\n",
    "            self.weight_matrix+= adjustment\n",
    "if __name__ == \"__main__\":\n",
    "    \n",
    "    neural_network = NeuralNetwork()\n",
    "    \n",
    "    print(\"random weights at the start of the training\")\n",
    "    print(neural_network.weight_matrix)\n",
    "    \n",
    "    train_inputs = array([[0,0,1], [1,1,1], [1,0,1], [0,1,1]])\n",
    "    train_outputs = array([[0,1,1,0]]).T\n",
    "    \n",
    "    neural_network.train(train_inputs,train_outputs,10000)\n",
    "    \n",
    "    print(\"new weights after training \")\n",
    "    print(neural_network.weight_matrix)\n",
    "    \n",
    "    print(\"testing network on a new example-->\")\n",
    "    print(neural_network.forward_propagation(array([0,1,0])))\n",
    "    \n",
    "            "
   ]
  },
  {
   "cell_type": "code",
   "execution_count": null,
   "metadata": {},
   "outputs": [],
   "source": []
  }
 ],
 "metadata": {
  "kernelspec": {
   "display_name": "Python 3",
   "language": "python",
   "name": "python3"
  },
  "language_info": {
   "codemirror_mode": {
    "name": "ipython",
    "version": 3
   },
   "file_extension": ".py",
   "mimetype": "text/x-python",
   "name": "python",
   "nbconvert_exporter": "python",
   "pygments_lexer": "ipython3",
   "version": "3.6.5"
  }
 },
 "nbformat": 4,
 "nbformat_minor": 2
}
