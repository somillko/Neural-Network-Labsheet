{
 "cells": [
  {
   "cell_type": "code",
   "execution_count": 10,
   "metadata": {},
   "outputs": [],
   "source": [
    "import numpy as np"
   ]
  },
  {
   "cell_type": "code",
   "execution_count": 11,
   "metadata": {},
   "outputs": [
    {
     "name": "stdout",
     "output_type": "stream",
     "text": [
      "(16, 6)\n",
      "(16, 1)\n"
     ]
    }
   ],
   "source": [
    "x_train = np.array(([[0.2, 0.611, 0.682, 0.5, 0.529, 0.508],\n",
    "              [0.2, 0, 0.536, 0.666, 0.576, 0.647],\n",
    "              [0.1, 0, 0.329, 0.869, 0.711, 0.735],\n",
    "              [0.3, 0, 0.756, 0.452, 0.491, 0.529],\n",
    "              [0.5 ,0 ,0.585 ,0.619 ,0.627 ,0.852],\n",
    "[0.2 ,0 ,0.524 ,0.678 ,0.576 ,0.676],\n",
    "[0.5 ,0 ,0.573 ,0.63 ,0.61 ,0.823],\n",
    "[0.2 ,0 ,0.512 ,0.69 ,0.576 ,0.647],\n",
    "[0.1 ,0 ,0.341 ,0.857 ,0.694 ,0.705],\n",
    "[0.2 ,0 ,0.548 ,0.654 ,0.576 ,0.647],\n",
    "[0.7 ,0 ,0.353 ,0.845 ,0.677 ,1],\n",
    "[0.5 ,0 ,0.585 ,0.619 ,0.61 ,0.823],\n",
    "[0.2 ,0.222 ,0.682 ,0.476 ,0.508 ,0.529],\n",
    "[0.1 ,0 ,0.317 ,0.88 ,0.728 ,0.764],\n",
    "[0.1 ,0 ,0.341 ,0.857 ,0.711 ,0.735],\n",
    "[0.2 ,0.166 ,0.67 ,0.50 ,0.525 ,0.558]]),dtype = float)\n",
    "y_train = np.array(([[0.1],[0.292],[0.203],[0.129],[0.608],[0.328],\n",
    "               [0.595],[0.296],[0.193],[0.289],[0.614],[0.594],\n",
    "               [0.0842],[0.211],[0.21],[0.112]]),dtype=float)\n",
    "print(x.shape)\n",
    "#x.shape\n",
    "print(y.shape)"
   ]
  },
  {
   "cell_type": "code",
   "execution_count": 12,
   "metadata": {},
   "outputs": [],
   "source": [
    "class NeuralNetwork():\n",
    "    def __init__(self):\n",
    "        self.inputSize = 6\n",
    "        self.outputSize = 1\n",
    "        self.hiddenSize = 6\n",
    "\n",
    "        self.w1 = np.random.randn(self.inputSize, self.hiddenSize)\n",
    "        self.w2 = np.random.randn(self.hiddenSize, self.outputSize)\n",
    "\n",
    "    def sigmoid(self,s):\n",
    "        return 1/(1+np.exp(-s))\n",
    "    def sigmoidder(self,s):\n",
    "        return s*(1-s)\n",
    "\n",
    "    def forward(self,x):\n",
    "        self.z = np.dot(x, self.w1)\n",
    "        self.z2 = self.sigmoid(self.z)\n",
    "        self.z3 = np.dot(self.z2, self.w2)\n",
    "        o = self.sigmoid(self.z3)\n",
    "        return o\n",
    "\n",
    "    def backward(self,x,y,o):\n",
    "        self.o_error = y-o\n",
    "        self.o_delta = self.o_error*self.sigmoidder(o)\n",
    "\n",
    "        self.z2_error = self.o_delta.dot(self.w2.T)\n",
    "        self.z2_delta = self.z2_error*self.sigmoidder(self.z2)\n",
    "        self.w1 += x.T.dot(self.z2_delta)\n",
    "        self.w2 += self.z2.T.dot(self.o_delta)\n",
    "\n",
    "    def train(self,x,y,num_train_iterations):\n",
    "        for iteration in range(num_train_iterations):\n",
    "            o = self.forward(x)\n",
    "            self.backward(x,y,o)"
   ]
  },
  {
   "cell_type": "code",
   "execution_count": 15,
   "metadata": {},
   "outputs": [
    {
     "name": "stdout",
     "output_type": "stream",
     "text": [
      "random weights at the start of the training\n",
      "[[ 0.85007684  0.5758052  -0.57403343 -2.06628096  1.34129864  0.97297897]\n",
      " [-1.14911258  1.27485454 -0.00920871  0.12771145 -0.50431756  0.99723876]\n",
      " [-0.18096379  0.23956268 -0.38374731 -0.46024661 -0.72398897 -0.01216818]\n",
      " [-2.81601987  0.2243469  -0.34519962 -2.22848908  0.21442537 -0.81907706]\n",
      " [-0.06809625  0.1567361   0.18777779  0.97395725 -0.26994319 -0.13464741]\n",
      " [ 0.28404381  0.11907253  1.4660099   0.57742642 -0.07203948  0.18243271]]\n",
      "[[ 0.31495065]\n",
      " [ 0.07976108]\n",
      " [-0.19902908]\n",
      " [ 0.09868212]\n",
      " [-1.11137772]\n",
      " [ 0.96439727]]\n",
      "new weights after training \n",
      "[[ 1.5655492  -0.35379052 -1.34880394 -2.77202129  0.29922618  2.15877929]\n",
      " [-1.41976469  1.68958324  0.41600732  0.79524489  0.09259775  0.26130743]\n",
      " [-0.23766261  0.49366536 -0.08107399  0.5287687  -0.26673317 -0.73874553]\n",
      " [-2.42055192 -0.01388255 -0.49064142 -1.82641052  0.11361016 -0.79914203]\n",
      " [ 0.25541753 -0.01490692  0.10620179  1.43106976 -0.29426297 -0.21299996]\n",
      " [ 1.07398075 -0.67767976  0.85265989  0.40432161 -0.80388863  0.96500609]]\n",
      "[[ 1.35482438]\n",
      " [-1.59967742]\n",
      " [-1.02372428]\n",
      " [-2.52182116]\n",
      " [-0.90158064]\n",
      " [ 1.98013727]]\n",
      "\n",
      "testing network on new example-->\n",
      "[[0.22870494]\n",
      " [0.2623685 ]\n",
      " [0.52012881]\n",
      " [0.14300309]\n",
      " [0.26833456]\n",
      " [0.14516805]\n",
      " [0.01684577]\n",
      " [0.21958569]]\n"
     ]
    }
   ],
   "source": [
    "if __name__ == \"__main__\":\n",
    "    \n",
    "    neural_network = NeuralNetwork()\n",
    "    print(\"random weights at the start of the training\")\n",
    "    print(neural_network.w1)\n",
    "    print(neural_network.w2)\n",
    "    #neural_network.w1.shape\n",
    "    neural_network.train(x_train,y_train,100)\n",
    "    \n",
    "    print(\"new weights after training \")\n",
    "    print(neural_network.w1)\n",
    "    print(neural_network.w2)\n",
    "    \n",
    "    x_test=np.array(([[0.1, 0, 0.304, 0.892, 0.728, 0.754],\n",
    "[0.2, 0, 0.536, 0.666, 0.576, 0.647],\n",
    "[0.5, 0, 0.597, 0.607, 0.61, 0.823],\n",
    "[0.1, 0, 0.951, 0.261, 0.627, 0.676],\n",
    "[0.2, 0, 0.512, 0.69, 0.593, 0.676],\n",
    "[0.1, 0, 0.926, 0.285, 0.627, 0.676],\n",
    "[0.2, 222, 0.658, 0.5, 0.525, 0.529],\n",
    "[0.1, 0, 0.341, 0.857, 0.728, 0.735]]),dtype=float)\n",
    "    print(\"\\ntesting network on new example-->\")\n",
    "    print(neural_network.forward(x_test))"
   ]
  },
  {
   "cell_type": "code",
   "execution_count": null,
   "metadata": {},
   "outputs": [],
   "source": []
  }
 ],
 "metadata": {
  "kernelspec": {
   "display_name": "Python 3",
   "language": "python",
   "name": "python3"
  },
  "language_info": {
   "codemirror_mode": {
    "name": "ipython",
    "version": 3
   },
   "file_extension": ".py",
   "mimetype": "text/x-python",
   "name": "python",
   "nbconvert_exporter": "python",
   "pygments_lexer": "ipython3",
   "version": "3.6.5"
  }
 },
 "nbformat": 4,
 "nbformat_minor": 2
}
