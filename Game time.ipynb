{
 "cells": [
  {
   "cell_type": "code",
   "execution_count": 1,
   "metadata": {},
   "outputs": [
    {
     "name": "stdout",
     "output_type": "stream",
     "text": [
      "(3, 2)\n",
      "(3, 1)\n"
     ]
    }
   ],
   "source": [
    "import numpy as np\n",
    "x = np.array(([2,9], [1,5], [3,6] ),dtype = float)\n",
    "y = np.array(([92],[86],[89]),dtype = float)\n",
    "print(x.shape)\n",
    "print(y.shape)\n",
    "x = x/np.amax(x, axis = 0)\n",
    "y = y/100\n"
   ]
  },
  {
   "cell_type": "code",
   "execution_count": 9,
   "metadata": {},
   "outputs": [],
   "source": [
    "class NeuralNetwork():\n",
    "    def __init__(self):\n",
    "        self.inputSize = 2\n",
    "        self.outputSize = 1\n",
    "        self.hiddenSize = 3\n",
    "\n",
    "        self.w1 = np.random.randn(self.inputSize, self.hiddenSize)\n",
    "        self.w2 = np.random.randn(self.hiddenSize, self.outputSize)\n",
    "\n",
    "    def sigmoid(self,s):\n",
    "        return 1/(1+np.exp(-s))\n",
    "    def sigmoidder(self,s):\n",
    "        return s*(1-s)\n",
    "\n",
    "    def forward(self,x):\n",
    "        self.z = np.dot(x, self.w1)\n",
    "        self.z2 = self.sigmoid(self.z)\n",
    "        self.z3 = np.dot(self.z2, self.w2)\n",
    "        o = self.sigmoid(self.z3)\n",
    "        return o\n",
    "\n",
    "    def backward(self,x,y,o):\n",
    "        self.o_error = y-o\n",
    "        self.o_delta = self.o_error*self.sigmoidder(o)\n",
    "\n",
    "        self.z2_error = self.o_delta.dot(self.w2.T)\n",
    "        self.z2_delta = self.z2_error*self.sigmoidder(self.z2)\n",
    "\n",
    "        self.w1 += x.T.dot(self.z2_delta)\n",
    "        self.w2 += self.z2.T.dot(self.o_delta)\n",
    "\n",
    "    def train(self,x,y,num_train_iterations):\n",
    "        for iteration in range(num_train_iterations):\n",
    "            o = self.forward(x)\n",
    "            self.backward(x,y,o)"
   ]
  },
  {
   "cell_type": "code",
   "execution_count": 11,
   "metadata": {},
   "outputs": [
    {
     "name": "stdout",
     "output_type": "stream",
     "text": [
      "random weights at the start of the training\n",
      "[[ 1.45719532 -2.00051782 -0.6489318 ]\n",
      " [ 0.94006363 -1.43109179  1.46522632]]\n",
      "[[-1.63577623]\n",
      " [-0.96623514]\n",
      " [ 2.32901357]]\n",
      "new weights after training \n",
      "[[ 1.3041963  -1.95008356 -0.04645528]\n",
      " [ 0.80052888 -1.29204852  1.84639718]]\n",
      "[[-0.41809999]\n",
      " [-1.51690676]\n",
      " [ 3.32096253]]\n",
      "testing network on a new example-->\n",
      "[0.90490026]\n"
     ]
    }
   ],
   "source": [
    "if __name__ == \"__main__\":\n",
    "    \n",
    "    neural_network = NeuralNetwork()\n",
    "    print(\"random weights at the start of the training\")\n",
    "    print(neural_network.w1)\n",
    "    print(neural_network.w2)\n",
    "    \n",
    "    neural_network.train(x,y,10000)\n",
    "    \n",
    "    print(\"new weights after training \")\n",
    "    print(neural_network.w1)\n",
    "    print(neural_network.w2)\n",
    "    \n",
    "    print(\"testing network on a new example-->\")\n",
    "    print(neural_network.forward(np.array([0,1])))\n",
    "    \n",
    "    "
   ]
  },
  {
   "cell_type": "code",
   "execution_count": null,
   "metadata": {},
   "outputs": [],
   "source": []
  }
 ],
 "metadata": {
  "kernelspec": {
   "display_name": "Python 3",
   "language": "python",
   "name": "python3"
  },
  "language_info": {
   "codemirror_mode": {
    "name": "ipython",
    "version": 3
   },
   "file_extension": ".py",
   "mimetype": "text/x-python",
   "name": "python",
   "nbconvert_exporter": "python",
   "pygments_lexer": "ipython3",
   "version": "3.6.5"
  }
 },
 "nbformat": 4,
 "nbformat_minor": 2
}
