{
 "cells": [
  {
   "cell_type": "code",
   "execution_count": 1,
   "metadata": {},
   "outputs": [
    {
     "name": "stdout",
     "output_type": "stream",
     "text": [
      "(1, 3)\n",
      "(1, 3)\n"
     ]
    }
   ],
   "source": [
    "import numpy as np\n",
    "x = np.array([[1,0.25,-0.5]])\n",
    "y = np.array([[1,-1,0]])\n",
    "print(x.shape)\n",
    "#x.shape\n",
    "print(y.shape)"
   ]
  },
  {
   "cell_type": "code",
   "execution_count": 36,
   "metadata": {},
   "outputs": [],
   "source": [
    "class NeuralNetwork():\n",
    "    def __init__(self):\n",
    "        self.inputSize = 3\n",
    "        self.outputSize = 3\n",
    "        self.hiddenSize = 2\n",
    "\n",
    "        self.w1 = np.random.randn(self.inputSize, self.hiddenSize)\n",
    "        self.w2 = np.random.randn(self.hiddenSize, self.outputSize)\n",
    "\n",
    "    def sigmoid(self,s):\n",
    "        return 1/(1+np.exp(-s))\n",
    "    def sigmoidder(self,s):\n",
    "        return s*(1-s)\n",
    "\n",
    "    def forward(self,x):\n",
    "        self.z = np.dot(x, self.w1)\n",
    "        self.z2 = self.sigmoid(self.z)\n",
    "        self.z3 = np.dot(self.z2, self.w2)\n",
    "        o = self.sigmoid(self.z3)\n",
    "        return o\n",
    "\n",
    "    def backward(self,x,y,o):\n",
    "        self.o_error = y-o\n",
    "        self.o_delta = self.o_error*self.sigmoidder(o)\n",
    "\n",
    "        self.z2_error = self.o_delta.dot(self.w2.T)\n",
    "        self.z2_delta = self.z2_error*self.sigmoidder(self.z2)\n",
    "        self.w1 += x.T.dot(self.z2_delta)\n",
    "        self.w2 += self.z2.T.dot(self.o_delta)\n",
    "\n",
    "    def train(self,x,y,num_train_iterations):\n",
    "        for iteration in range(num_train_iterations):\n",
    "            o = self.forward(x)\n",
    "            self.backward(x,y,o)"
   ]
  },
  {
   "cell_type": "code",
   "execution_count": 38,
   "metadata": {},
   "outputs": [
    {
     "name": "stdout",
     "output_type": "stream",
     "text": [
      "random weights at the start of the training\n",
      "[[-0.87724645  1.0682017 ]\n",
      " [ 0.28088188 -0.31179814]\n",
      " [ 0.15809493 -1.61272487]]\n",
      "[[ 0.83293653  0.3745967   1.06897052]\n",
      " [ 1.69690496  0.82587383 -0.5567276 ]]\n",
      "new weights after training \n",
      "[[-0.61533301  2.0863534 ]\n",
      " [ 0.34636024 -0.05726021]\n",
      " [ 0.02713821 -2.12180072]]\n",
      "[[ 1.0692231  -1.24123628  0.39991427]\n",
      " [ 2.43570514 -4.37894947 -2.68857647]]\n",
      "testing network on a new example-->\n",
      "[[0.93860512 0.00944868 0.08096931]]\n"
     ]
    }
   ],
   "source": [
    "if __name__ == \"__main__\":\n",
    "    \n",
    "    neural_network = NeuralNetwork()\n",
    "    print(\"random weights at the start of the training\")\n",
    "    print(neural_network.w1)\n",
    "    print(neural_network.w2)\n",
    "    #neural_network.w1.shape\n",
    "    neural_network.train(x,y,100)\n",
    "    \n",
    "    print(\"new weights after training \")\n",
    "    print(neural_network.w1)\n",
    "    print(neural_network.w2)\n",
    "    \n",
    "    print(\"testing network on a new example-->\")\n",
    "    print(neural_network.forward(np.array([[1,0.25,-0.5]])))\n",
    "    \n",
    "    "
   ]
  },
  {
   "cell_type": "code",
   "execution_count": null,
   "metadata": {},
   "outputs": [],
   "source": []
  }
 ],
 "metadata": {
  "kernelspec": {
   "display_name": "Python 3",
   "language": "python",
   "name": "python3"
  },
  "language_info": {
   "codemirror_mode": {
    "name": "ipython",
    "version": 3
   },
   "file_extension": ".py",
   "mimetype": "text/x-python",
   "name": "python",
   "nbconvert_exporter": "python",
   "pygments_lexer": "ipython3",
   "version": "3.6.5"
  }
 },
 "nbformat": 4,
 "nbformat_minor": 2
}
